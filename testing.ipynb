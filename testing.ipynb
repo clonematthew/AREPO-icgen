{
 "cells": [
  {
   "cell_type": "code",
   "execution_count": 1,
   "metadata": {},
   "outputs": [],
   "source": [
    "import numpy as np\n",
    "import os"
   ]
  },
  {
   "cell_type": "code",
   "execution_count": 2,
   "metadata": {},
   "outputs": [
    {
     "data": {
      "text/plain": [
       "126"
      ]
     },
     "execution_count": 2,
     "metadata": {},
     "output_type": "execute_result"
    }
   ],
   "source": [
    "np.int64(126.5)"
   ]
  },
  {
   "cell_type": "code",
   "execution_count": 2,
   "metadata": {},
   "outputs": [],
   "source": [
    "filename = \"vel3D.bin\""
   ]
  },
  {
   "cell_type": "code",
   "execution_count": 38,
   "metadata": {},
   "outputs": [
    {
     "name": "stdout",
     "output_type": "stream",
     "text": [
      "16777215\n",
      "[  0   0   0 ... -95  63   8] [  0   0   0 ... -95  63   8]\n"
     ]
    }
   ],
   "source": [
    "# Size of the array\n",
    "skip = np.fromfile(filename, dtype=np.int32, count=1)\n",
    "\n",
    "velx = np.fromfile(filename, dtype=np.int8, count=5592405)\n",
    "vely = np.fromfile(filename, dtype=np.int8, count=5592405)\n",
    "velz = np.fromfile(filename, dtype=np.int8, count=5592405)\n",
    "\n",
    "skip2 = np.fromfile(filename, dtype=np.int32, count=1)\n",
    "\n",
    "print(velx, vely)\n",
    "\n",
    "#print(stringarr)\n"
   ]
  },
  {
   "cell_type": "code",
   "execution_count": 45,
   "metadata": {},
   "outputs": [
    {
     "name": "stdout",
     "output_type": "stream",
     "text": [
      "[-15  61 -79 -14]\n",
      "[-1074975005]\n",
      "-1561-79-14\n"
     ]
    }
   ],
   "source": [
    "with open(filename, \"rb\") as file:\n",
    "\n",
    "    skip = np.fromfile(file, dtype=np.int32, count=1)\n",
    "\n",
    "    stringarr = np.fromfile(file, dtype=np.int8, count=4)\n",
    "\n",
    "    print(stringarr)\n",
    "    tag = \"\".join([str(item) for item in stringarr])\n",
    "\n",
    "    dumread = np.fromfile(file, dtype=np.int32, count=1)\n",
    "\n",
    "    print(dumread)\n",
    "\n",
    "    print(tag)\n",
    "\n"
   ]
  },
  {
   "cell_type": "code",
   "execution_count": 66,
   "metadata": {},
   "outputs": [],
   "source": [
    "from scipy.io import FortranFile\n",
    "\n",
    "f = FortranFile(filename, \"r\")\n",
    "\n",
    "velx = f.read_reals().reshape((128,128,128))\n",
    "vely = f.read_reals()\n",
    "velz = f.read_reals()\n"
   ]
  },
  {
   "cell_type": "code",
   "execution_count": 3,
   "metadata": {},
   "outputs": [
    {
     "data": {
      "text/plain": [
       "0.0"
      ]
     },
     "execution_count": 3,
     "metadata": {},
     "output_type": "execute_result"
    }
   ],
   "source": [
    "n = np.zeros((2,2,2))\n",
    "\n",
    "n[0,0,0]"
   ]
  },
  {
   "cell_type": "code",
   "execution_count": 5,
   "metadata": {},
   "outputs": [
    {
     "data": {
      "text/plain": [
       "dtype('float64')"
      ]
     },
     "execution_count": 5,
     "metadata": {},
     "output_type": "execute_result"
    }
   ],
   "source": [
    "from turbulence import turbulenceFromFile\n",
    "\n",
    "velx, vely, velz = turbulenceFromFile(128, \"vel3D.bin\")\n",
    "\n",
    "np.dtype(velx[0,0,0])"
   ]
  }
 ],
 "metadata": {
  "kernelspec": {
   "display_name": "base",
   "language": "python",
   "name": "python3"
  },
  "language_info": {
   "codemirror_mode": {
    "name": "ipython",
    "version": 3
   },
   "file_extension": ".py",
   "mimetype": "text/x-python",
   "name": "python",
   "nbconvert_exporter": "python",
   "pygments_lexer": "ipython3",
   "version": "3.8.8"
  }
 },
 "nbformat": 4,
 "nbformat_minor": 2
}
