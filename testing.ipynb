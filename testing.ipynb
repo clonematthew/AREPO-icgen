{
 "cells": [
  {
   "cell_type": "code",
   "execution_count": 1,
   "metadata": {},
   "outputs": [],
   "source": [
    "import numpy as np\n",
    "import os"
   ]
  },
  {
   "cell_type": "code",
   "execution_count": 2,
   "metadata": {},
   "outputs": [
    {
     "data": {
      "text/plain": [
       "126"
      ]
     },
     "execution_count": 2,
     "metadata": {},
     "output_type": "execute_result"
    }
   ],
   "source": [
    "np.int64(126.5)"
   ]
  },
  {
   "cell_type": "code",
   "execution_count": 2,
   "metadata": {},
   "outputs": [],
   "source": [
    "filename = \"vel3D.bin\""
   ]
  },
  {
   "cell_type": "code",
   "execution_count": 38,
   "metadata": {},
   "outputs": [
    {
     "name": "stdout",
     "output_type": "stream",
     "text": [
      "16777215\n",
      "[  0   0   0 ... -95  63   8] [  0   0   0 ... -95  63   8]\n"
     ]
    }
   ],
   "source": [
    "# Size of the array\n",
    "skip = np.fromfile(filename, dtype=np.int32, count=1)\n",
    "\n",
    "velx = np.fromfile(filename, dtype=np.int8, count=5592405)\n",
    "vely = np.fromfile(filename, dtype=np.int8, count=5592405)\n",
    "velz = np.fromfile(filename, dtype=np.int8, count=5592405)\n",
    "\n",
    "skip2 = np.fromfile(filename, dtype=np.int32, count=1)\n",
    "\n",
    "print(velx, vely)\n",
    "\n",
    "#print(stringarr)\n"
   ]
  },
  {
   "cell_type": "code",
   "execution_count": 45,
   "metadata": {},
   "outputs": [
    {
     "name": "stdout",
     "output_type": "stream",
     "text": [
      "[-15  61 -79 -14]\n",
      "[-1074975005]\n",
      "-1561-79-14\n"
     ]
    }
   ],
   "source": [
    "with open(filename, \"rb\") as file:\n",
    "\n",
    "    skip = np.fromfile(file, dtype=np.int32, count=1)\n",
    "\n",
    "    stringarr = np.fromfile(file, dtype=np.int8, count=4)\n",
    "\n",
    "    print(stringarr)\n",
    "    tag = \"\".join([str(item) for item in stringarr])\n",
    "\n",
    "    dumread = np.fromfile(file, dtype=np.int32, count=1)\n",
    "\n",
    "    print(dumread)\n",
    "\n",
    "    print(tag)\n",
    "\n"
   ]
  },
  {
   "cell_type": "code",
   "execution_count": 62,
   "metadata": {},
   "outputs": [
    {
     "name": "stdout",
     "output_type": "stream",
     "text": [
      "(3, 1093627)\n",
      "(3, 1093627)\n",
      "(1093627,)\n",
      "(1093627,)\n",
      "(1093627,)\n",
      "[    1093627           0           0           0           0           0\n",
      "           0           0           0           0           0           0\n",
      "           0           0     1093627           0           0           0\n",
      "           0           0           0           1           0           0\n",
      "           0           0           0           0           0           0\n",
      "           0           0     1093627           0           0   -35261186\n",
      "  1188596348 -2049400832  1131820119           0           0           0\n",
      "           0           0           0           0           0           0\n",
      "           0           0           0           0           0           0\n",
      "           0           0           0           0           0           0\n",
      "           0           0           0           0]\n"
     ]
    }
   ],
   "source": [
    "from scipy.io import FortranFile\n",
    "import numpy as np\n",
    "\n",
    "f = FortranFile(\"arepo_out\", \"r\")\n",
    "\n",
    "\n",
    "header = f.read_reals(np.int32)\n",
    "pos = f.read_reals(np.double).reshape((3, header[0]))\n",
    "vels = f.read_reals(np.double).reshape((3, header[0]))\n",
    "pIDs = f.read_reals(np.double)\n",
    "pMass = f.read_reals(np.double)\n",
    "pEnergy = f.read_reals(np.double)\n",
    "\n",
    "\n",
    "print(np.shape(pos))\n",
    "print(np.shape(vels))\n",
    "print(np.shape(pIDs))\n",
    "print(np.shape(pMass))\n",
    "print(np.shape(pEnergy))\n",
    "print(header)\n"
   ]
  },
  {
   "cell_type": "code",
   "execution_count": 43,
   "metadata": {},
   "outputs": [
    {
     "data": {
      "text/plain": [
       "(2097152,)"
      ]
     },
     "execution_count": 43,
     "metadata": {},
     "output_type": "execute_result"
    }
   ],
   "source": [
    "from scipy.io import FortranFile\n",
    "\n",
    "ff = FortranFile(\"vel3D.bin\", \"r\")\n",
    "\n",
    "v = ff.read_reals()\n",
    "\n",
    "np.shape(v)"
   ]
  },
  {
   "cell_type": "code",
   "execution_count": 66,
   "metadata": {},
   "outputs": [],
   "source": [
    "from scipy.io import FortranFile\n",
    "\n",
    "f = FortranFile(filename, \"r\")\n",
    "\n",
    "velx = f.read_reals().reshape((128,128,128))\n",
    "vely = f.read_reals()\n",
    "velz = f.read_reals()\n"
   ]
  },
  {
   "cell_type": "code",
   "execution_count": 3,
   "metadata": {},
   "outputs": [
    {
     "data": {
      "text/plain": [
       "0.0"
      ]
     },
     "execution_count": 3,
     "metadata": {},
     "output_type": "execute_result"
    }
   ],
   "source": [
    "n = np.zeros((2,2,2))\n",
    "\n",
    "n[0,0,0]"
   ]
  },
  {
   "cell_type": "code",
   "execution_count": 5,
   "metadata": {},
   "outputs": [
    {
     "data": {
      "text/plain": [
       "dtype('float64')"
      ]
     },
     "execution_count": 5,
     "metadata": {},
     "output_type": "execute_result"
    }
   ],
   "source": [
    "from turbulence import turbulenceFromFile\n",
    "\n",
    "velx, vely, velz = turbulenceFromFile(128, \"vel3D.bin\")\n",
    "\n",
    "np.dtype(velx[0,0,0])"
   ]
  },
  {
   "cell_type": "code",
   "execution_count": 18,
   "metadata": {},
   "outputs": [
    {
     "name": "stdout",
     "output_type": "stream",
     "text": [
      "0.0\n",
      "[ 36.47656526  36.47656526  36.47656526 ... 105.57542414  82.37927936\n",
      "  14.17632017]\n",
      "[1362.51160248 1362.51160248 1362.51160248 ...    0.            0.\n",
      "    0.        ]\n",
      "[     1      2      3 ... 992736 992737 992738]\n",
      "[2.56865501e-05 2.56865501e-05 2.56865501e-05 ... 1.28435654e-05\n",
      " 1.28435654e-05 1.28435654e-05]\n",
      "[1.00567448 1.00567448 1.00567448 ... 2.01134897 2.01134897 2.01134897]\n"
     ]
    }
   ],
   "source": [
    "from scipy.io import FortranFile\n",
    "import numpy as np\n",
    "\n",
    "f = FortranFile(\"arepo_out\")\n",
    "\n",
    "h = f.read_reals()\n",
    "print(h[-1])\n",
    "\n",
    "p = f.read_reals()\n",
    "v = f.read_reals()\n",
    "i = f.read_ints()\n",
    "m = f.read_reals()\n",
    "e = f.read_reals()\n",
    "\n",
    "print(p)\n",
    "print(v)\n",
    "print(i)\n",
    "print(m)\n",
    "print(e)"
   ]
  },
  {
   "cell_type": "code",
   "execution_count": 8,
   "metadata": {},
   "outputs": [
    {
     "name": "stdout",
     "output_type": "stream",
     "text": [
      "0.0\n",
      "[265.93453979 331.74154663 383.11065674 ... 185.47149658 550.96209717\n",
      " 254.4418335 ]\n",
      "[-0.87763613  1.07296634 -0.88174528 ...  0.          0.\n",
      "  0.        ]\n",
      "[      1       2       3 ... 2039998 2039999 2040000]\n",
      "[0.0005     0.0005     0.0005     ... 0.00744674 0.00744674 0.00744674]\n",
      "[2.68227479 2.68227479 2.68227479 ... 2.68227479 2.68227479 2.68227479]\n"
     ]
    }
   ],
   "source": [
    "from scipy.io import FortranFile\n",
    "import numpy as np\n",
    "\n",
    "f = FortranFile(\"n100cc_m1000_vir.dat\")\n",
    "\n",
    "h = f.read_reals()\n",
    "print(h[-1])\n",
    "\n",
    "p = f.read_reals()\n",
    "v = f.read_reals()\n",
    "i = f.read_ints()\n",
    "m = f.read_reals()\n",
    "e = f.read_reals()\n",
    "\n",
    "print(p)\n",
    "print(v)\n",
    "print(i)\n",
    "print(m)\n",
    "print(e)"
   ]
  }
 ],
 "metadata": {
  "kernelspec": {
   "display_name": "base",
   "language": "python",
   "name": "python3"
  },
  "language_info": {
   "codemirror_mode": {
    "name": "ipython",
    "version": 3
   },
   "file_extension": ".py",
   "mimetype": "text/x-python",
   "name": "python",
   "nbconvert_exporter": "python",
   "pygments_lexer": "ipython3",
   "version": "3.11.5"
  }
 },
 "nbformat": 4,
 "nbformat_minor": 2
}
